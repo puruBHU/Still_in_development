{
 "cells": [
  {
   "cell_type": "code",
   "execution_count": 1,
   "metadata": {},
   "outputs": [
    {
     "name": "stderr",
     "output_type": "stream",
     "text": [
      "Using TensorFlow backend.\n"
     ]
    }
   ],
   "source": [
    "from keras import backend as K\n",
    "import tensorflow as tf\n",
    "\n",
    "from SSD_generate_anchors import generate_ssd_priors\n",
    "from CustomDataLoader import DataAugmentor\n",
    "from utility import *\n",
    "from pathlib import Path\n",
    "import collections\n",
    "from ssd300_model import SSD300\n",
    "from skimage.io import imread, imshow\n",
    "import cv2\n",
    "import numpy as np\n",
    "from ssd_loss_function import SSDLoss\n",
    "\n"
   ]
  },
  {
   "cell_type": "code",
   "execution_count": 2,
   "metadata": {},
   "outputs": [],
   "source": [
    "# root = Path.home()/'data'/'VOCdevkit'/'VOC2007'\n",
    "root  = Path.home()/'Documents'/'DATASETS'/'VOCdevkit'/'VOC2007'\n",
    "voc_2007_datafile = root/'ImageSets'/'Main'/'train.txt'\n",
    "voc_2007_images   = root/'JPEGImages'\n",
    "voc_2007_annotations = root/'Annotations'\n",
    "\n"
   ]
  },
  {
   "cell_type": "code",
   "execution_count": 3,
   "metadata": {},
   "outputs": [],
   "source": [
    "SSDBoxSizes = collections.namedtuple('SSDBoxSizes', ['min', 'max'])\n",
    "\n",
    "Spec = collections.namedtuple('Spec', ['feature_map_size', 'shrinkage', 'box_sizes', \n",
    "                                       'aspect_ratios'])\n",
    "\n",
    "# the SSD orignal specs\n",
    "specs = [\n",
    "    Spec(38, 8, SSDBoxSizes(30, 60), [2]),\n",
    "    Spec(19, 16, SSDBoxSizes(60, 111), [2, 3]),\n",
    "    Spec(10, 32, SSDBoxSizes(111, 162), [2, 3]),\n",
    "    Spec(5, 64, SSDBoxSizes(162, 213), [2, 3]),\n",
    "    Spec(3, 100, SSDBoxSizes(213, 264), [2]),\n",
    "    Spec(1, 300, SSDBoxSizes(264, 315), [2])\n",
    "]\n"
   ]
  },
  {
   "cell_type": "code",
   "execution_count": 4,
   "metadata": {},
   "outputs": [],
   "source": [
    "priors = generate_ssd_priors(specs)\n",
    "num_priors = priors.shape[0]"
   ]
  },
  {
   "cell_type": "code",
   "execution_count": 5,
   "metadata": {},
   "outputs": [],
   "source": [
    "batch_size = 10\n",
    "\n",
    "testloader = DataAugmentor()\n",
    "\n",
    "data       = testloader.flow_from_directory(root = root,\n",
    "                                            data_file=voc_2007_datafile,\n",
    "                                            target_size=300,\n",
    "                                            batch_size = batch_size,\n",
    "                                            shuffle    = True\n",
    "                                            )\n",
    "\n",
    "sample = data[0]\n",
    "\n",
    "images, targets = sample"
   ]
  },
  {
   "cell_type": "code",
   "execution_count": 6,
   "metadata": {},
   "outputs": [],
   "source": [
    "loc_t  = np.zeros(shape = (batch_size, num_priors, 4), dtype=np.float32)\n",
    "conf_t = np.zeros(shape = (batch_size, num_priors), dtype=np.float32)"
   ]
  },
  {
   "cell_type": "code",
   "execution_count": 7,
   "metadata": {},
   "outputs": [
    {
     "name": "stdout",
     "output_type": "stream",
     "text": [
      "(10, 8732, 4)\n",
      "(10, 8732)\n"
     ]
    }
   ],
   "source": [
    "print(loc_t.shape)\n",
    "print(conf_t.shape)"
   ]
  },
  {
   "cell_type": "code",
   "execution_count": 8,
   "metadata": {},
   "outputs": [],
   "source": [
    "for idx in range(batch_size):\n",
    "    truths = targets[idx][:,1:]\n",
    "\n",
    "    labels = targets[idx][:,0]\n",
    "    match(threshold= 0.5, \n",
    "          truths   = truths, \n",
    "          labels   = labels, \n",
    "          priors   = priors, \n",
    "          variance = [0.1, 0.2], \n",
    "          idx      = idx,\n",
    "          loc_t    = loc_t,\n",
    "          conf_t   = conf_t)"
   ]
  },
  {
   "cell_type": "code",
   "execution_count": 9,
   "metadata": {},
   "outputs": [],
   "source": [
    "pos = conf_t > 0"
   ]
  },
  {
   "cell_type": "code",
   "execution_count": 10,
   "metadata": {},
   "outputs": [
    {
     "data": {
      "text/plain": [
       "(10, 8732)"
      ]
     },
     "execution_count": 10,
     "metadata": {},
     "output_type": "execute_result"
    }
   ],
   "source": [
    "pos.shape"
   ]
  },
  {
   "cell_type": "code",
   "execution_count": 11,
   "metadata": {},
   "outputs": [
    {
     "name": "stdout",
     "output_type": "stream",
     "text": [
      "(10, 1)\n"
     ]
    }
   ],
   "source": [
    "num_pos = np.sum(pos, axis=1, keepdims= True)\n",
    "print(num_pos.shape)"
   ]
  },
  {
   "cell_type": "code",
   "execution_count": 12,
   "metadata": {},
   "outputs": [
    {
     "data": {
      "text/plain": [
       "array([[ 6],\n",
       "       [ 9],\n",
       "       [39],\n",
       "       [33],\n",
       "       [22],\n",
       "       [ 9],\n",
       "       [63],\n",
       "       [ 7],\n",
       "       [24],\n",
       "       [20]])"
      ]
     },
     "execution_count": 12,
     "metadata": {},
     "output_type": "execute_result"
    }
   ],
   "source": [
    "num_pos"
   ]
  },
  {
   "cell_type": "code",
   "execution_count": 13,
   "metadata": {},
   "outputs": [
    {
     "name": "stdout",
     "output_type": "stream",
     "text": [
      "(10, 8732, 4)\n"
     ]
    }
   ],
   "source": [
    "pos_idx = pos.reshape(pos.shape[0], pos.shape[1], 1).repeat(4, axis=-1)\n",
    "print(pos_idx.shape)"
   ]
  },
  {
   "cell_type": "code",
   "execution_count": 14,
   "metadata": {},
   "outputs": [
    {
     "name": "stdout",
     "output_type": "stream",
     "text": [
      "(10, 8732, 4)\n"
     ]
    }
   ],
   "source": [
    "loc_data = np.random.randn(batch_size, 8732, 4)\n",
    "print(loc_data.shape)"
   ]
  },
  {
   "cell_type": "code",
   "execution_count": 15,
   "metadata": {},
   "outputs": [],
   "source": [
    "loc_p = loc_data[pos_idx].reshape(-1,4)\n",
    "loc_t = loc_t[pos_idx].reshape(-1,4)"
   ]
  },
  {
   "cell_type": "code",
   "execution_count": 16,
   "metadata": {},
   "outputs": [
    {
     "name": "stdout",
     "output_type": "stream",
     "text": [
      "(232, 4)\n",
      "(232, 4)\n"
     ]
    }
   ],
   "source": [
    "print(loc_p.shape)\n",
    "print(loc_t.shape)"
   ]
  },
  {
   "cell_type": "code",
   "execution_count": 18,
   "metadata": {},
   "outputs": [
    {
     "name": "stdout",
     "output_type": "stream",
     "text": [
      "(10, 8732)\n"
     ]
    }
   ],
   "source": [
    "print(conf_t.shape)\n",
    "# batch_conf = conf_t.reshape(-1, 21)\n",
    "# print(batch_conf.shape)"
   ]
  },
  {
   "cell_type": "code",
   "execution_count": null,
   "metadata": {},
   "outputs": [],
   "source": []
  }
 ],
 "metadata": {
  "kernelspec": {
   "display_name": "Python 3",
   "language": "python",
   "name": "python3"
  },
  "language_info": {
   "codemirror_mode": {
    "name": "ipython",
    "version": 3
   },
   "file_extension": ".py",
   "mimetype": "text/x-python",
   "name": "python",
   "nbconvert_exporter": "python",
   "pygments_lexer": "ipython3",
   "version": "3.7.3"
  }
 },
 "nbformat": 4,
 "nbformat_minor": 2
}
