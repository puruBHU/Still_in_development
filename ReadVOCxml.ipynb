{
 "cells": [
  {
   "cell_type": "code",
   "execution_count": 22,
   "metadata": {},
   "outputs": [],
   "source": [
    "from pathlib import Path\n",
    "import numpy as np\n",
    "import pandas as pd\n",
    "from xml.etree import ElementTree as ET\n"
   ]
  },
  {
   "cell_type": "code",
   "execution_count": 24,
   "metadata": {},
   "outputs": [
    {
     "name": "stdout",
     "output_type": "stream",
     "text": [
      "[<Element 'name' at 0x7f72a3a7f5e8>, <Element 'pose' at 0x7f72a3a7f638>, <Element 'truncated' at 0x7f72a3a7f688>, <Element 'difficult' at 0x7f72a3a7f6d8>, <Element 'bndbox' at 0x7f72a3a7f728>, <Element 'name' at 0x7f72a3a7f908>, <Element 'pose' at 0x7f72a3a7f958>, <Element 'truncated' at 0x7f72a3a7f9a8>, <Element 'difficult' at 0x7f72a3a7f9f8>, <Element 'bndbox' at 0x7f72a3a7fa48>, <Element 'name' at 0x7f72a3a7fc28>, <Element 'pose' at 0x7f72a3a7fc78>, <Element 'truncated' at 0x7f72a3a7fcc8>, <Element 'difficult' at 0x7f72a3a7fd18>, <Element 'bndbox' at 0x7f72a3a7fd68>, <Element 'name' at 0x7f72a3a7ff48>, <Element 'pose' at 0x7f72a3a7ff98>, <Element 'truncated' at 0x7f72a3a83048>, <Element 'difficult' at 0x7f72a3a83098>, <Element 'bndbox' at 0x7f72a3a830e8>]\n"
     ]
    }
   ],
   "source": [
    "root = ET.parse('2007_000032.xml').getroot()\n",
    "print(root.findall('./object/'))\n"
   ]
  },
  {
   "cell_type": "code",
   "execution_count": 49,
   "metadata": {},
   "outputs": [],
   "source": [
    "# print(ET.tostring(root, encoding='utf8').decode('utf8'))"
   ]
  },
  {
   "cell_type": "code",
   "execution_count": 42,
   "metadata": {},
   "outputs": [],
   "source": [
    "for elements in root.findall('./object'):\n",
    "    name = elements.find('name').text\n"
   ]
  },
  {
   "cell_type": "code",
   "execution_count": 50,
   "metadata": {},
   "outputs": [
    {
     "data": {
      "text/plain": [
       "'person'"
      ]
     },
     "execution_count": 50,
     "metadata": {},
     "output_type": "execute_result"
    }
   ],
   "source": [
    "name"
   ]
  },
  {
   "cell_type": "code",
   "execution_count": 4,
   "metadata": {},
   "outputs": [],
   "source": [
    "VOC_CLASSES = (  # always index 0\n",
    "    'aeroplane', 'bicycle', 'bird', 'boat',\n",
    "    'bottle', 'bus', 'car', 'cat', 'chair',\n",
    "    'cow', 'diningtable', 'dog', 'horse',\n",
    "    'motorbike', 'person', 'pottedplant',\n",
    "    'sheep', 'sofa', 'train', 'tvmonitor')"
   ]
  },
  {
   "cell_type": "code",
   "execution_count": 5,
   "metadata": {},
   "outputs": [
    {
     "name": "stdout",
     "output_type": "stream",
     "text": [
      "['person']\n"
     ]
    }
   ],
   "source": [
    "name = [f.text for f in root.findall('./object/name')]\n",
    "print(name)"
   ]
  },
  {
   "cell_type": "code",
   "execution_count": 133,
   "metadata": {},
   "outputs": [],
   "source": [
    "class VOCannotations(object):\n",
    "    \n",
    "    def __init__(self, file_name):\n",
    "        self.root = ET.parse(file_name).getroot()\n",
    "    \n",
    "    def get_bndboxes(self):\n",
    "        data = []\n",
    "        for elements in self.root.findall('./object/bndbox'):\n",
    "            xmin = int(elements.find('xmin').text)\n",
    "            ymin = int(elements.find('ymin').text)\n",
    "            xmax = int(elements.find('xmax').text)\n",
    "            ymax = int(elements.find('ymax').text)\n",
    "            data.append([xmin, ymin, xmax, ymax])\n",
    "        return data\n",
    "        \n",
    "    def get_object_class(self):\n",
    "        objects = []\n",
    "        for elements in root.findall('./object'):\n",
    "            objects.append(elements.find('name').text)\n",
    "            \n",
    "        return objects\n",
    "    \n",
    "    def get_dimensions(self):\n",
    "        dim = [int(f.text) for f in self.root.findall('./size/')]\n",
    "        return {'width':dim[1], 'height':dim[0], 'depth':dim[2]}\n",
    "          \n",
    "    def get_filename(self):\n",
    "        return self.root.findall('./filename')[0].text\n",
    "    \n",
    "    def write_csvfile(self, save_path = None):\n",
    "        filename = self.get_filename().split('.')[0]\n",
    "        boxes    = self.get_bndboxes()\n",
    "        classes  = self.get_object_class()\n",
    "        \n",
    "        data = []\n",
    "        for i, box in enumerate(boxes):\n",
    "            tmp  = [classes[i]]\n",
    "            tmp.extend(box)\n",
    "            data.append(tmp)\n",
    "\n",
    "        header = ['class','xmin','ymin','xmax','ymax']\n",
    "        \n",
    "        \n",
    "        save_path  = Path(save_path)\n",
    "        \n",
    "        if not Path.exists(save_path):\n",
    "            save_path.mkdir(parents = True, exist_ok=True)\n",
    "        \n",
    "        \n",
    "        df = pd.DataFrame(data)\n",
    "        df.to_csv( save_path/'{}.csv'.format(filename), header = header, index = None)\n",
    "        "
   ]
  },
  {
   "cell_type": "code",
   "execution_count": 134,
   "metadata": {},
   "outputs": [],
   "source": [
    "test      = VOCannotations('2007_000032.xml')\n",
    "boxes     = test.get_bndboxes()\n",
    "filename  = test.get_filename()\n",
    "dimension = test.get_dimensions()\n",
    "classes   = test.get_object_class()\n",
    "test.write_csvfile(save_path = Path.cwd()/'test')"
   ]
  },
  {
   "cell_type": "code",
   "execution_count": 56,
   "metadata": {},
   "outputs": [
    {
     "name": "stdout",
     "output_type": "stream",
     "text": [
      "2007_000027.jpg\n",
      "{'width': 500, 'height': 486, 'depth': 3}\n",
      "['aeroplane', 'aeroplane', 'person', 'person']\n",
      "(1, 4)\n",
      "2007_000027\n"
     ]
    }
   ],
   "source": [
    "print(filename)\n",
    "print(dimension)\n",
    "print(classes)\n",
    "print(np.array(boxes).shape)\n"
   ]
  }
 ],
 "metadata": {
  "kernelspec": {
   "display_name": "Python 3",
   "language": "python",
   "name": "python3"
  },
  "language_info": {
   "codemirror_mode": {
    "name": "ipython",
    "version": 3
   },
   "file_extension": ".py",
   "mimetype": "text/x-python",
   "name": "python",
   "nbconvert_exporter": "python",
   "pygments_lexer": "ipython3",
   "version": "3.7.3"
  }
 },
 "nbformat": 4,
 "nbformat_minor": 2
}
