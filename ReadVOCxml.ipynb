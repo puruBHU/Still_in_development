{
 "cells": [
  {
   "cell_type": "code",
   "execution_count": 22,
   "metadata": {},
   "outputs": [],
   "source": [
    "from pathlib import Path\n",
    "import numpy as np\n",
    "import pandas as pd\n",
    "from xml.etree import ElementTree as ET\n"
   ]
  },
  {
   "cell_type": "code",
   "execution_count": 24,
   "metadata": {},
   "outputs": [
    {
     "name": "stdout",
     "output_type": "stream",
     "text": [
      "[<Element 'name' at 0x7f72a3a7f5e8>, <Element 'pose' at 0x7f72a3a7f638>, <Element 'truncated' at 0x7f72a3a7f688>, <Element 'difficult' at 0x7f72a3a7f6d8>, <Element 'bndbox' at 0x7f72a3a7f728>, <Element 'name' at 0x7f72a3a7f908>, <Element 'pose' at 0x7f72a3a7f958>, <Element 'truncated' at 0x7f72a3a7f9a8>, <Element 'difficult' at 0x7f72a3a7f9f8>, <Element 'bndbox' at 0x7f72a3a7fa48>, <Element 'name' at 0x7f72a3a7fc28>, <Element 'pose' at 0x7f72a3a7fc78>, <Element 'truncated' at 0x7f72a3a7fcc8>, <Element 'difficult' at 0x7f72a3a7fd18>, <Element 'bndbox' at 0x7f72a3a7fd68>, <Element 'name' at 0x7f72a3a7ff48>, <Element 'pose' at 0x7f72a3a7ff98>, <Element 'truncated' at 0x7f72a3a83048>, <Element 'difficult' at 0x7f72a3a83098>, <Element 'bndbox' at 0x7f72a3a830e8>]\n"
     ]
    }
   ],
   "source": [
    "root = ET.parse('2007_000032.xml').getroot()\n",
    "print(root.findall('./object/'))\n"
   ]
  },
  {
   "cell_type": "code",
   "execution_count": 25,
   "metadata": {},
   "outputs": [
    {
     "name": "stdout",
     "output_type": "stream",
     "text": [
      "<?xml version='1.0' encoding='utf8'?>\n",
      "<annotation>\n",
      "\t<folder>VOC2012</folder>\n",
      "\t<filename>2007_000032.jpg</filename>\n",
      "\t<source>\n",
      "\t\t<database>The VOC2007 Database</database>\n",
      "\t\t<annotation>PASCAL VOC2007</annotation>\n",
      "\t\t<image>flickr</image>\n",
      "\t</source>\n",
      "\t<size>\n",
      "\t\t<width>500</width>\n",
      "\t\t<height>281</height>\n",
      "\t\t<depth>3</depth>\n",
      "\t</size>\n",
      "\t<segmented>1</segmented>\n",
      "\t<object>\n",
      "\t\t<name>aeroplane</name>\n",
      "\t\t<pose>Frontal</pose>\n",
      "\t\t<truncated>0</truncated>\n",
      "\t\t<difficult>0</difficult>\n",
      "\t\t<bndbox>\n",
      "\t\t\t<xmin>104</xmin>\n",
      "\t\t\t<ymin>78</ymin>\n",
      "\t\t\t<xmax>375</xmax>\n",
      "\t\t\t<ymax>183</ymax>\n",
      "\t\t</bndbox>\n",
      "\t</object>\n",
      "\t<object>\n",
      "\t\t<name>aeroplane</name>\n",
      "\t\t<pose>Left</pose>\n",
      "\t\t<truncated>0</truncated>\n",
      "\t\t<difficult>0</difficult>\n",
      "\t\t<bndbox>\n",
      "\t\t\t<xmin>133</xmin>\n",
      "\t\t\t<ymin>88</ymin>\n",
      "\t\t\t<xmax>197</xmax>\n",
      "\t\t\t<ymax>123</ymax>\n",
      "\t\t</bndbox>\n",
      "\t</object>\n",
      "\t<object>\n",
      "\t\t<name>person</name>\n",
      "\t\t<pose>Rear</pose>\n",
      "\t\t<truncated>0</truncated>\n",
      "\t\t<difficult>0</difficult>\n",
      "\t\t<bndbox>\n",
      "\t\t\t<xmin>195</xmin>\n",
      "\t\t\t<ymin>180</ymin>\n",
      "\t\t\t<xmax>213</xmax>\n",
      "\t\t\t<ymax>229</ymax>\n",
      "\t\t</bndbox>\n",
      "\t</object>\n",
      "\t<object>\n",
      "\t\t<name>person</name>\n",
      "\t\t<pose>Rear</pose>\n",
      "\t\t<truncated>0</truncated>\n",
      "\t\t<difficult>0</difficult>\n",
      "\t\t<bndbox>\n",
      "\t\t\t<xmin>26</xmin>\n",
      "\t\t\t<ymin>189</ymin>\n",
      "\t\t\t<xmax>44</xmax>\n",
      "\t\t\t<ymax>238</ymax>\n",
      "\t\t</bndbox>\n",
      "\t</object>\n",
      "</annotation>\n"
     ]
    }
   ],
   "source": [
    "print(ET.tostring(root, encoding='utf8').decode('utf8'))"
   ]
  },
  {
   "cell_type": "code",
   "execution_count": 29,
   "metadata": {},
   "outputs": [],
   "source": [
    "for elements in root.findall('./object/bndbox'):\n",
    "    xmin = elements.find('xmin').text\n",
    "    ymin = elements.find('ymin').text\n",
    "    "
   ]
  },
  {
   "cell_type": "code",
   "execution_count": 31,
   "metadata": {},
   "outputs": [
    {
     "data": {
      "text/plain": [
       "'189'"
      ]
     },
     "execution_count": 31,
     "metadata": {},
     "output_type": "execute_result"
    }
   ],
   "source": [
    "ymin"
   ]
  },
  {
   "cell_type": "code",
   "execution_count": 4,
   "metadata": {},
   "outputs": [],
   "source": [
    "VOC_CLASSES = (  # always index 0\n",
    "    'aeroplane', 'bicycle', 'bird', 'boat',\n",
    "    'bottle', 'bus', 'car', 'cat', 'chair',\n",
    "    'cow', 'diningtable', 'dog', 'horse',\n",
    "    'motorbike', 'person', 'pottedplant',\n",
    "    'sheep', 'sofa', 'train', 'tvmonitor')"
   ]
  },
  {
   "cell_type": "code",
   "execution_count": 5,
   "metadata": {},
   "outputs": [
    {
     "name": "stdout",
     "output_type": "stream",
     "text": [
      "['person']\n"
     ]
    }
   ],
   "source": [
    "name = [f.text for f in root.findall('./object/name')]\n",
    "print(name)"
   ]
  },
  {
   "cell_type": "code",
   "execution_count": 35,
   "metadata": {},
   "outputs": [],
   "source": [
    "class VOCannotations(object):\n",
    "    \n",
    "    def __init__(self, file_name):\n",
    "        self.root = ET.parse(file_name).getroot()\n",
    "    \n",
    "    def get_bndboxes(self):\n",
    "        data = []\n",
    "        for elements in self.root.findall('./object/bndbox'):\n",
    "            xmin = int(elements.find('xmin').text)\n",
    "            ymin = int(elements.find('ymin').text)\n",
    "            xmax = int(elements.find('xmax').text)\n",
    "            ymax = int(elements.find('ymax').text)\n",
    "            data.append([xmin, ymin, xmax, ymax])\n",
    "        return data\n",
    "        \n",
    "    def get_object_class(self):\n",
    "        \n",
    "    \n",
    "    def get_dimensions(self):\n",
    "        dim = [int(f.text) for f in self.root.findall('./size/')]\n",
    "        return {'width':dim[1], 'height':dim[0], 'depth':dim[2]}\n",
    "          \n",
    "    def get_filename(self):\n",
    "        return self.root.findall('./filename')[0].text"
   ]
  },
  {
   "cell_type": "code",
   "execution_count": 39,
   "metadata": {},
   "outputs": [],
   "source": [
    "test  = VOCannotations('2007_000027.xml')\n",
    "boxes = test.get_bndboxes()\n",
    "filename = test.get_filename()\n",
    "dimension = test.get_dimensions()"
   ]
  },
  {
   "cell_type": "code",
   "execution_count": 40,
   "metadata": {},
   "outputs": [
    {
     "name": "stdout",
     "output_type": "stream",
     "text": [
      "2007_000027.jpg\n",
      "{'width': 500, 'height': 486, 'depth': 3}\n",
      "(1, 4)\n"
     ]
    }
   ],
   "source": [
    "print(filename)\n",
    "print(dimension)\n",
    "print(np.array(boxes).shape)"
   ]
  }
 ],
 "metadata": {
  "kernelspec": {
   "display_name": "Python 3",
   "language": "python",
   "name": "python3"
  },
  "language_info": {
   "codemirror_mode": {
    "name": "ipython",
    "version": 3
   },
   "file_extension": ".py",
   "mimetype": "text/x-python",
   "name": "python",
   "nbconvert_exporter": "python",
   "pygments_lexer": "ipython3",
   "version": "3.7.3"
  }
 },
 "nbformat": 4,
 "nbformat_minor": 2
}
