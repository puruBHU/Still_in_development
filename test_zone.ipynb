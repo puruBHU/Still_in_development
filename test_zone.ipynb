{
 "cells": [
  {
   "cell_type": "code",
   "execution_count": 1,
   "metadata": {},
   "outputs": [
    {
     "name": "stderr",
     "output_type": "stream",
     "text": [
      "Using TensorFlow backend.\n"
     ]
    }
   ],
   "source": [
    "\n",
    "from SSD_generate_anchors import generate_ssd_priors\n",
    "from CustomDataLoader import DataAugmentor\n",
    "from utility import *\n",
    "from pathlib import Path\n",
    "import collections"
   ]
  },
  {
   "cell_type": "code",
   "execution_count": 2,
   "metadata": {},
   "outputs": [],
   "source": [
    "root = Path.home()/'data'/'VOCdevkit'/'VOC2007'\n",
    "\n",
    "voc_2007_datafile = root/'ImageSets'/'Main'/'train.txt'\n",
    "voc_2007_images   = root/'JPEGImages'\n",
    "voc_2007_annotations = root/'Annotations'"
   ]
  },
  {
   "cell_type": "code",
   "execution_count": 3,
   "metadata": {},
   "outputs": [],
   "source": [
    "SSDBoxSizes = collections.namedtuple('SSDBoxSizes', ['min', 'max'])\n",
    "\n",
    "Spec = collections.namedtuple('Spec', ['feature_map_size', 'shrinkage', 'box_sizes', \n",
    "                                       'aspect_ratios'])\n",
    "\n",
    "# the SSD orignal specs\n",
    "specs = [\n",
    "    Spec(38, 8, SSDBoxSizes(30, 60), [2]),\n",
    "    Spec(19, 16, SSDBoxSizes(60, 111), [2, 3]),\n",
    "    Spec(10, 32, SSDBoxSizes(111, 162), [2, 3]),\n",
    "    Spec(5, 64, SSDBoxSizes(162, 213), [2, 3]),\n",
    "    Spec(3, 100, SSDBoxSizes(213, 264), [2]),\n",
    "    Spec(1, 300, SSDBoxSizes(264, 315), [2])\n",
    "]"
   ]
  },
  {
   "cell_type": "code",
   "execution_count": 4,
   "metadata": {},
   "outputs": [],
   "source": [
    "priors = generate_ssd_priors(specs)\n",
    "testloader = DataAugmentor()\n",
    "\n",
    "data       = testloader.flow_from_directory(root = root,\n",
    "                                            data_file=voc_2007_datafile,\n",
    "                                            target_size=300,\n",
    "                                            batch_size = 4,\n",
    "                                            shuffle    = True\n",
    "                                            )"
   ]
  },
  {
   "cell_type": "code",
   "execution_count": 5,
   "metadata": {},
   "outputs": [],
   "source": [
    "def intersect(box_a, box_b):\n",
    "\n",
    "    \"\"\" We resize both tensors to [A,B,2] without new malloc:\n",
    "    [A,2] -> [A,1,2] -> [A,B,2]\n",
    "    [B,2] -> [1,B,2] -> [A,B,2]\n",
    "    Then we compute the area of intersect between box_a and box_b.\n",
    "    Args:\n",
    "      box_a: (tensor) bounding boxes, Shape: [A,4].\n",
    "      box_b: (tensor) bounding boxes, Shape: [B,4].\n",
    "    Return:\n",
    "      (tensor) intersection area, Shape: [A,B].\n",
    "    \"\"\"\n",
    "    box_a = np.array(box_a, dtype = np.float32)\n",
    "    box_b = np.array(box_b, dtype = np.float32) \n",
    "    \n",
    "    A = box_a.shape[0]\n",
    "    B = box_b.shape[0]\n",
    "    \n",
    "    box_a = box_a.reshape(A, 1, -1)\n",
    "    box_a = box_a.repeat(B, axis = 1)\n",
    "#     box_a = box_a.reshape(-1, 4)\n",
    "    \n",
    "    box_b = box_b.reshape(1,B, -1)\n",
    "    box_b = box_b.repeat(A, axis = 0)\n",
    "#     box_b = box_b.reshape(-1, 4)\n",
    "    \n",
    "    xy_min_a = box_a[:,:,:2]\n",
    "    xy_min_b = box_b[:,:,:2]\n",
    "    \n",
    "    xy_max_a = box_a[:,:,2:]\n",
    "    xy_max_b = box_b[:,:,2:]\n",
    "    \n",
    "    max_xy   = np.maximum(np.maximum(xy_min_a, xy_min_b), 0)    \n",
    "    min_xy   = np.minimum(np.minimum(xy_max_a, xy_max_b), 1)\n",
    "\n",
    "  \n",
    "    tensor  = min_xy - max_xy\n",
    "       \n",
    "    intersection = tensor[:,:,0] * tensor[:,:,1]\n",
    "    \n",
    "    return intersection # Areas of intersection\n",
    "\n",
    "def jaccard(box_a, box_b):\n",
    "    \n",
    "    intersection = intersect(box_a, box_b)\n",
    "    print('intersection shape', intersection.shape)\n",
    "    \n",
    "    A = box_a.shape[0]\n",
    "    B = box_b.shape[0]\n",
    "    \n",
    "\n",
    "    \n",
    "    # area_box_a = (xmax - xmin) * (ymax - ymin)\n",
    "    area_box_a  = (box_a[:,2] - box_a[:,0]) * (box_a[:,3] - box_a[:,1])\n",
    "    \n",
    "    area_box_a = area_box_a.reshape(-1, 1)\n",
    "    area_box_a = area_box_a.repeat(B, axis = 1)\n",
    "    \n",
    "    # calculate areas of box B\n",
    "    area_box_b  = (box_b[:,2] - box_b[:,0]) * (box_b[:,3] - box_b[:,1])\n",
    "    \n",
    "    area_box_b = area_box_b.reshape(1,-1)\n",
    "    area_box_b = area_box_b.repeat(A, axis = 0)\n",
    "    \n",
    "    print(area_box_a.shape)\n",
    "    print(area_box_b.shape)\n",
    "    union       = area_box_a + area_box_b - intersection\n",
    "    \n",
    "    iou          = intersection/ union\n",
    "    return iou"
   ]
  },
  {
   "cell_type": "code",
   "execution_count": 10,
   "metadata": {},
   "outputs": [
    {
     "name": "stdout",
     "output_type": "stream",
     "text": [
      "intersection shape (2, 8732)\n",
      "(2, 8732)\n",
      "(2, 8732)\n"
     ]
    }
   ],
   "source": [
    "sample = data[0]\n",
    "\n",
    "image, target = sample\n",
    "batch_size = image.shape[0]\n",
    "\n",
    "for i in range(batch_size):\n",
    "    t = point_form(target[i][:,1:])\n",
    "#     a = intersect(t, priors)\n",
    "    b = jaccard(t, point_form(priors)) \n",
    "    if i == 0:\n",
    "        break"
   ]
  },
  {
   "cell_type": "code",
   "execution_count": 11,
   "metadata": {},
   "outputs": [
    {
     "data": {
      "text/plain": [
       "(2, 8732)"
      ]
     },
     "execution_count": 11,
     "metadata": {},
     "output_type": "execute_result"
    }
   ],
   "source": [
    "b.shape"
   ]
  },
  {
   "cell_type": "code",
   "execution_count": 12,
   "metadata": {},
   "outputs": [
    {
     "data": {
      "text/plain": [
       "array([358.80908844,  26.49491125])"
      ]
     },
     "execution_count": 12,
     "metadata": {},
     "output_type": "execute_result"
    }
   ],
   "source": [
    "np.max(b, axis=1)"
   ]
  },
  {
   "cell_type": "code",
   "execution_count": 13,
   "metadata": {},
   "outputs": [
    {
     "data": {
      "text/plain": [
       "array([-2217.43399654, -9698.6249966 ])"
      ]
     },
     "execution_count": 13,
     "metadata": {},
     "output_type": "execute_result"
    }
   ],
   "source": [
    "np.min(b, axis=1)"
   ]
  }
 ],
 "metadata": {
  "kernelspec": {
   "display_name": "Python 3",
   "language": "python",
   "name": "python3"
  },
  "language_info": {
   "codemirror_mode": {
    "name": "ipython",
    "version": 3
   },
   "file_extension": ".py",
   "mimetype": "text/x-python",
   "name": "python",
   "nbconvert_exporter": "python",
   "pygments_lexer": "ipython3",
   "version": "3.7.3"
  }
 },
 "nbformat": 4,
 "nbformat_minor": 2
}
