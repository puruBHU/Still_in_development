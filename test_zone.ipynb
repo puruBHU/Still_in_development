{
 "cells": [
  {
   "cell_type": "code",
   "execution_count": 33,
   "metadata": {},
   "outputs": [],
   "source": [
    "\n",
    "from SSD_generate_anchors import generate_ssd_priors\n",
    "from CustomDataLoader import DataAugmentor\n",
    "from utility import *\n",
    "from pathlib import Path\n",
    "import collections\n",
    "from ssd_loss_function_v2 import CustomLoss\n",
    "from ssd300_model import SSD300\n",
    "from keras import backend as K\n",
    "import tensorflow as tf"
   ]
  },
  {
   "cell_type": "code",
   "execution_count": 2,
   "metadata": {},
   "outputs": [],
   "source": [
    "root = Path.home()/'data'/'VOCdevkit'/'VOC2007'\n",
    "# root  = Path.home()/'Documents'/'DATASETS'/'VOCdevkit'/'VOC2007'\n",
    "\n",
    "voc_2007_datafile = root/'ImageSets'/'Main'/'train.txt'\n",
    "voc_2007_images   = root/'JPEGImages'\n",
    "voc_2007_annotations = root/'Annotations'"
   ]
  },
  {
   "cell_type": "code",
   "execution_count": 3,
   "metadata": {},
   "outputs": [],
   "source": [
    "SSDBoxSizes = collections.namedtuple('SSDBoxSizes', ['min', 'max'])\n",
    "\n",
    "Spec = collections.namedtuple('Spec', ['feature_map_size', 'shrinkage', 'box_sizes', \n",
    "                                       'aspect_ratios'])\n",
    "\n",
    "# the SSD orignal specs\n",
    "specs = [\n",
    "    Spec(38, 8, SSDBoxSizes(30, 60), [2]),\n",
    "    Spec(19, 16, SSDBoxSizes(60, 111), [2, 3]),\n",
    "    Spec(10, 32, SSDBoxSizes(111, 162), [2, 3]),\n",
    "    Spec(5, 64, SSDBoxSizes(162, 213), [2, 3]),\n",
    "    Spec(3, 100, SSDBoxSizes(213, 264), [2]),\n",
    "    Spec(1, 300, SSDBoxSizes(264, 315), [2])\n",
    "]"
   ]
  },
  {
   "cell_type": "code",
   "execution_count": 4,
   "metadata": {},
   "outputs": [],
   "source": [
    "priors = generate_ssd_priors(specs)\n",
    "\n",
    "batch_size = 8\n",
    "\n",
    "testloader = DataAugmentor()\n",
    "data       = testloader.flow_from_directory(root = root,\n",
    "                                            data_file=voc_2007_datafile,\n",
    "                                            target_size=300,\n",
    "                                            batch_size = batch_size,\n",
    "                                            shuffle    = True,\n",
    "                                            num_classes = 21,\n",
    "                                            priors      = priors\n",
    "                                            )"
   ]
  },
  {
   "cell_type": "code",
   "execution_count": 5,
   "metadata": {},
   "outputs": [
    {
     "name": "stdout",
     "output_type": "stream",
     "text": [
      "(8, 300, 300, 3)\n",
      "(8, 8732, 5)\n"
     ]
    }
   ],
   "source": [
    "sample = data[0]\n",
    "\n",
    "images, targets = sample\n",
    "print(images.shape)\n",
    "print(targets.shape)"
   ]
  },
  {
   "cell_type": "code",
   "execution_count": 6,
   "metadata": {},
   "outputs": [
    {
     "name": "stderr",
     "output_type": "stream",
     "text": [
      "W0802 22:28:55.484102 139756464920384 deprecation_wrapper.py:119] From /home/puru/anaconda3/lib/python3.7/site-packages/keras/backend/tensorflow_backend.py:74: The name tf.get_default_graph is deprecated. Please use tf.compat.v1.get_default_graph instead.\n",
      "\n",
      "W0802 22:28:55.555014 139756464920384 deprecation_wrapper.py:119] From /home/puru/anaconda3/lib/python3.7/site-packages/keras/backend/tensorflow_backend.py:1834: The name tf.nn.fused_batch_norm is deprecated. Please use tf.compat.v1.nn.fused_batch_norm instead.\n",
      "\n",
      "W0802 22:28:55.677284 139756464920384 deprecation_wrapper.py:119] From /home/puru/anaconda3/lib/python3.7/site-packages/keras/backend/tensorflow_backend.py:3976: The name tf.nn.max_pool is deprecated. Please use tf.nn.max_pool2d instead.\n",
      "\n"
     ]
    }
   ],
   "source": [
    "model = SSD300(input_shape=(300,300, 3), num_classes=21)\n",
    "\n",
    "prediction = model.predict(images)"
   ]
  },
  {
   "cell_type": "code",
   "execution_count": 7,
   "metadata": {},
   "outputs": [],
   "source": [
    "SSDLoss = CustomLoss(anchors   = priors, \n",
    "                     alpha     = 1.0\n",
    "                    )\n",
    "\n",
    "loc_data, positives = SSDLoss(y_true = targets, y_pred = prediction)"
   ]
  },
  {
   "cell_type": "code",
   "execution_count": 8,
   "metadata": {},
   "outputs": [],
   "source": [
    "pos = K.cast(positives, dtype='uint8')"
   ]
  },
  {
   "cell_type": "code",
   "execution_count": 9,
   "metadata": {},
   "outputs": [
    {
     "name": "stdout",
     "output_type": "stream",
     "text": [
      "Tensor(\"Sum:0\", shape=(8, 1), dtype=uint8)\n",
      "[[ 41]\n",
      " [ 52]\n",
      " [100]\n",
      " [  7]\n",
      " [ 26]\n",
      " [ 19]\n",
      " [ 78]\n",
      " [ 18]]\n"
     ]
    }
   ],
   "source": [
    "num_pos = K.sum(pos, axis=-1, keepdims=True)\n",
    "print(num_pos)\n",
    "print(K.eval(num_pos))"
   ]
  },
  {
   "cell_type": "code",
   "execution_count": 10,
   "metadata": {},
   "outputs": [
    {
     "name": "stdout",
     "output_type": "stream",
     "text": [
      "[   8 8732]\n"
     ]
    }
   ],
   "source": [
    "pos_shape = K.shape(pos)\n",
    "print(K.eval(pos_shape))\n",
    "positives = K.reshape(positives, shape = (pos_shape[0], pos_shape[1],1))\n",
    "pos_idx   = K.repeat_elements(positives, 4, axis=-1)"
   ]
  },
  {
   "cell_type": "code",
   "execution_count": 11,
   "metadata": {},
   "outputs": [
    {
     "name": "stdout",
     "output_type": "stream",
     "text": [
      "[   8 8732    4]\n"
     ]
    }
   ],
   "source": [
    "print(K.eval(K.shape(pos_idx)))"
   ]
  },
  {
   "cell_type": "code",
   "execution_count": 12,
   "metadata": {},
   "outputs": [
    {
     "name": "stdout",
     "output_type": "stream",
     "text": [
      "[   8 8732    4]\n"
     ]
    }
   ],
   "source": [
    "print(K.eval(K.shape(loc_data)))"
   ]
  },
  {
   "cell_type": "code",
   "execution_count": 22,
   "metadata": {},
   "outputs": [],
   "source": [
    "pos_idx_ = K.cast(pos_idx, 'int32')"
   ]
  },
  {
   "cell_type": "code",
   "execution_count": 43,
   "metadata": {},
   "outputs": [],
   "source": [
    "loc_p = K.tf.boolean_mask(loc_data, pos_idx)"
   ]
  },
  {
   "cell_type": "code",
   "execution_count": 45,
   "metadata": {},
   "outputs": [],
   "source": [
    "loc_p = K.reshape(loc_p, shape= (-1, 4))"
   ]
  },
  {
   "cell_type": "code",
   "execution_count": 46,
   "metadata": {},
   "outputs": [
    {
     "name": "stdout",
     "output_type": "stream",
     "text": [
      "[341   4]\n"
     ]
    }
   ],
   "source": [
    "print(K.eval(K.shape(loc_p)))"
   ]
  }
 ],
 "metadata": {
  "kernelspec": {
   "display_name": "Python 3",
   "language": "python",
   "name": "python3"
  },
  "language_info": {
   "codemirror_mode": {
    "name": "ipython",
    "version": 3
   },
   "file_extension": ".py",
   "mimetype": "text/x-python",
   "name": "python",
   "nbconvert_exporter": "python",
   "pygments_lexer": "ipython3",
   "version": "3.7.3"
  }
 },
 "nbformat": 4,
 "nbformat_minor": 2
}
