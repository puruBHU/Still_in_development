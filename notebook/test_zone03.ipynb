{
 "cells": [
  {
   "cell_type": "code",
   "execution_count": 22,
   "metadata": {},
   "outputs": [],
   "source": [
    "import torch\n",
    "import tensorflow as tf\n",
    "import numpy as np\n",
    "from CustomDataLoaderv3 import DataAugmentor as DA_torch\n",
    "from CustomDataLoader import DataAugmentor as DA_numpy\n",
    "import collections\n",
    "from pathlib import Path\n",
    "from SSD_generate_anchors import generate_ssd_priors"
   ]
  },
  {
   "cell_type": "code",
   "execution_count": 23,
   "metadata": {},
   "outputs": [],
   "source": [
    "root                = Path.home()/'data'/'VOCdevkit'/'VOC2007'\n",
    "#root                 = Path.home()/'Documents'/'DATASETS'/'VOCdevkit'/'VOC2007'\n",
    "voc_2007_datafile  = root/'ImageSets'/'Main'/'train.txt'\n",
    "\n",
    "voc_2007_images      = root/'JPEGImages'\n",
    "voc_2007_annotations = root/'Annotations'"
   ]
  },
  {
   "cell_type": "code",
   "execution_count": 24,
   "metadata": {},
   "outputs": [],
   "source": [
    "SSDBoxSizes = collections.namedtuple('SSDBoxSizes', ['min', 'max'])\n",
    "\n",
    "Spec = collections.namedtuple('Spec', ['feature_map_size', 'shrinkage', 'box_sizes', \n",
    "                                       'aspect_ratios'])\n",
    "\n",
    "# the SSD orignal specs\n",
    "specs = [\n",
    "    Spec(38, 8, SSDBoxSizes(30, 60), [2]),\n",
    "    Spec(19, 16, SSDBoxSizes(60, 111), [2, 3]),\n",
    "    Spec(10, 32, SSDBoxSizes(111, 162), [2, 3]),\n",
    "    Spec(5, 64, SSDBoxSizes(162, 213), [2, 3]),\n",
    "    Spec(3, 100, SSDBoxSizes(213, 264), [2]),\n",
    "    Spec(1, 300, SSDBoxSizes(264, 315), [2])\n",
    "]\n",
    "\n",
    "priors = generate_ssd_priors(specs)"
   ]
  },
  {
   "cell_type": "code",
   "execution_count": 25,
   "metadata": {},
   "outputs": [],
   "source": [
    "batch_size = 4\n",
    "\n",
    "loader_torch = DA_torch()\n",
    "data_torch   = loader_torch.flow_from_directory(root = root,\n",
    "                                            data_file=voc_2007_datafile,\n",
    "                                            target_size=300,\n",
    "                                            batch_size = batch_size,\n",
    "                                            shuffle    = False,\n",
    "                                            num_classes = 21,\n",
    "                                            priors      = priors\n",
    "                                            )"
   ]
  },
  {
   "cell_type": "code",
   "execution_count": 26,
   "metadata": {},
   "outputs": [],
   "source": [
    "loader_numpy = DA_numpy()\n",
    "data_numpy   = loader_numpy.flow_from_directory(root = root,\n",
    "                                            data_file=voc_2007_datafile,\n",
    "                                            target_size=300,\n",
    "                                            batch_size = batch_size,\n",
    "                                            shuffle    = False,\n",
    "                                            num_classes = 21,\n",
    "                                            priors      = priors\n",
    "                                            )"
   ]
  },
  {
   "cell_type": "code",
   "execution_count": 27,
   "metadata": {},
   "outputs": [],
   "source": [
    "_, target_th = data_torch[1]"
   ]
  },
  {
   "cell_type": "code",
   "execution_count": 28,
   "metadata": {},
   "outputs": [],
   "source": [
    "_, target_np = data_numpy[1]"
   ]
  },
  {
   "cell_type": "code",
   "execution_count": 29,
   "metadata": {},
   "outputs": [
    {
     "data": {
      "text/plain": [
       "(4, 8732, 25)"
      ]
     },
     "execution_count": 29,
     "metadata": {},
     "output_type": "execute_result"
    }
   ],
   "source": [
    "target_np.shape"
   ]
  },
  {
   "cell_type": "code",
   "execution_count": 30,
   "metadata": {},
   "outputs": [
    {
     "data": {
      "text/plain": [
       "(4, 8732, 25)"
      ]
     },
     "execution_count": 30,
     "metadata": {},
     "output_type": "execute_result"
    }
   ],
   "source": [
    "target_th.shape"
   ]
  },
  {
   "cell_type": "code",
   "execution_count": 31,
   "metadata": {},
   "outputs": [],
   "source": [
    "loc_data_np = target_np[:,:,:4]\n",
    "loc_data_th = target_th[:,:,:4]"
   ]
  },
  {
   "cell_type": "code",
   "execution_count": 32,
   "metadata": {},
   "outputs": [
    {
     "data": {
      "text/plain": [
       "0"
      ]
     },
     "execution_count": 32,
     "metadata": {},
     "output_type": "execute_result"
    }
   ],
   "source": [
    "a = (loc_data_np == loc_data_th)\n",
    "np.sum(a)"
   ]
  },
  {
   "cell_type": "code",
   "execution_count": 35,
   "metadata": {},
   "outputs": [
    {
     "data": {
      "text/plain": [
       "array([[[ 1.6842106e+01,  1.2575576e+02,  5.0640454e+00, -2.8244624e+00],\n",
       "        [ 1.5156029e+01,  9.7230469e+01,  3.6494014e+00, -4.2391067e+00],\n",
       "        [ 1.5156029e+01,  1.6057297e+02,  3.6494014e+00, -1.5096354e+00],\n",
       "        ...,\n",
       "        [ 4.6870599e+00,  4.5383058e+00, -4.8241434e+00, -2.9646180e+00],\n",
       "        [ 4.7900000e+00,  3.3969994e+00, -4.9219713e+00, -2.0157926e+00],\n",
       "        [ 3.5768380e+00,  4.6441278e+00, -3.8753178e+00, -3.0624459e+00]],\n",
       "\n",
       "       [[ 1.2200000e+02,  9.4443481e+01,  2.0602894e+00,  4.9954143e+00],\n",
       "        [ 9.4400223e+01,  7.3634361e+01,  6.4564520e-01,  3.5807700e+00],\n",
       "        [ 9.4400223e+01,  1.1984254e+02,  6.4564520e-01,  6.3102407e+00],\n",
       "        ...,\n",
       "        [ 4.9827895e+00,  4.9569335e+00, -4.1660590e+00, -3.1855898e-03],\n",
       "        [ 5.0799999e+00,  3.9031062e+00, -4.2638869e+00,  9.4563985e-01],\n",
       "        [ 3.9343655e+00,  5.0546451e+00, -3.2172337e+00, -1.0101344e-01]],\n",
       "\n",
       "       [[ 1.0973685e+02,  6.6105263e+01,  4.3773422e+00,  1.0653674e+01],\n",
       "        [ 8.5159035e+01,  5.2279434e+01,  2.9626980e+00,  9.2390299e+00],\n",
       "        [ 8.5159035e+01,  8.2980698e+01,  2.9626980e+00,  1.1968501e+01],\n",
       "        ...,\n",
       "        [ 6.5441527e+00,  5.5844464e+00, -3.7200208e+00, -1.8468512e+00],\n",
       "        [ 6.6111112e+00,  4.6617479e+00, -3.8178487e+00, -8.9802581e-01],\n",
       "        [ 5.8219995e+00,  5.6699996e+00, -2.7711954e+00, -1.9446791e+00]],\n",
       "\n",
       "       [[ 8.5210533e+01,  1.4873685e+02,  5.4754863e+00,  1.3766627e+01],\n",
       "        [ 6.6676659e+01,  1.1454840e+02,  4.0608420e+00,  1.2351983e+01],\n",
       "        [ 6.6676659e+01,  1.9046634e+02,  4.0608420e+00,  1.5081454e+01],\n",
       "        ...,\n",
       "        [ 6.7673669e+00,  5.4586763e+00, -2.5686643e+00, -3.4282713e+00],\n",
       "        [ 6.8300004e+00,  4.5096960e+00, -2.6664920e+00, -2.4794459e+00],\n",
       "        [ 6.0918574e+00,  5.5466661e+00, -1.6198388e+00, -3.5260992e+00]]],\n",
       "      dtype=float32)"
      ]
     },
     "execution_count": 35,
     "metadata": {},
     "output_type": "execute_result"
    }
   ],
   "source": [
    "loc_data_np"
   ]
  },
  {
   "cell_type": "code",
   "execution_count": 36,
   "metadata": {},
   "outputs": [
    {
     "data": {
      "text/plain": [
       "array([[[ 5.66666603e+00,  7.46453094e+01, -5.10825634e+00,\n",
       "          2.78025293e+00],\n",
       "        [ 4.00693798e+00,  5.27822075e+01, -6.84112501e+00,\n",
       "          1.04738474e+00],\n",
       "        [ 4.00693798e+00,  1.05564415e+02, -6.84112501e+00,\n",
       "          4.51312065e+00],\n",
       "        ...,\n",
       "        [-2.18465701e-01, -3.70218188e-01, -2.86483860e+00,\n",
       "         -4.72436380e+00],\n",
       "        [-2.09999979e-01, -5.71907818e-01, -3.06244636e+00,\n",
       "         -2.54993701e+00],\n",
       "        [-3.37482750e-01, -3.55871916e-01, -6.90411568e-01,\n",
       "         -4.92197227e+00]],\n",
       "\n",
       "       [[ 7.22666626e+01,  5.48142052e+01,  2.71162295e+00,\n",
       "         -2.23502696e-01],\n",
       "        [ 5.11002502e+01,  3.87594948e+01,  9.78754699e-01,\n",
       "         -1.95637095e+00],\n",
       "        [ 5.11002502e+01,  7.75189896e+01,  9.78754699e-01,\n",
       "          1.50936496e+00],\n",
       "        ...,\n",
       "        [ 8.32252055e-02,  5.68478443e-02,  9.65943858e-02,\n",
       "         -4.06627893e+00],\n",
       "        [ 8.00001621e-02,  8.78177434e-02, -1.01013437e-01,\n",
       "         -1.89185190e+00],\n",
       "        [ 1.28565133e-01,  5.46449423e-02,  2.27102137e+00,\n",
       "         -4.26388693e+00]],\n",
       "\n",
       "       [[ 6.45000000e+01,  3.68666649e+01,  8.36988258e+00,\n",
       "          2.09355211e+00],\n",
       "        [ 4.56083870e+01,  2.60686703e+01,  6.63701487e+00,\n",
       "          3.60683560e-01],\n",
       "        [ 4.56083870e+01,  5.21373405e+01,  6.63701487e+00,\n",
       "          3.82641935e+00],\n",
       "        ...,\n",
       "        [ 1.67605984e+00,  6.97009385e-01, -1.74707103e+00,\n",
       "         -3.62024045e+00],\n",
       "        [ 1.61111116e+00,  1.07673037e+00, -1.94467902e+00,\n",
       "         -1.44581366e+00],\n",
       "        [ 2.58915377e+00,  6.69999719e-01,  4.27355945e-01,\n",
       "         -3.81784844e+00]],\n",
       "\n",
       "       [[ 4.89666672e+01,  8.91999969e+01,  1.14828348e+01,\n",
       "          3.19169426e+00],\n",
       "        [ 3.46246643e+01,  6.30739250e+01,  9.74996662e+00,\n",
       "          1.45882607e+00],\n",
       "        [ 3.46246643e+01,  1.26147850e+02,  9.74996662e+00,\n",
       "          4.92456198e+00],\n",
       "        ...,\n",
       "        [ 1.90377307e+00,  5.68704128e-01, -3.32849121e+00,\n",
       "         -2.46888494e+00],\n",
       "        [ 1.83000028e+00,  8.78526151e-01, -3.52609921e+00,\n",
       "         -2.94458181e-01],\n",
       "        [ 2.94092178e+00,  5.46666384e-01, -1.15406418e+00,\n",
       "         -2.66649294e+00]]], dtype=float32)"
      ]
     },
     "execution_count": 36,
     "metadata": {},
     "output_type": "execute_result"
    }
   ],
   "source": [
    "loc_data_th"
   ]
  },
  {
   "cell_type": "code",
   "execution_count": null,
   "metadata": {},
   "outputs": [],
   "source": []
  }
 ],
 "metadata": {
  "kernelspec": {
   "display_name": "Python 3",
   "language": "python",
   "name": "python3"
  },
  "language_info": {
   "codemirror_mode": {
    "name": "ipython",
    "version": 3
   },
   "file_extension": ".py",
   "mimetype": "text/x-python",
   "name": "python",
   "nbconvert_exporter": "python",
   "pygments_lexer": "ipython3",
   "version": "3.7.3"
  }
 },
 "nbformat": 4,
 "nbformat_minor": 2
}
