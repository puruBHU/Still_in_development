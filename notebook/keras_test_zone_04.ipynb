{
 "cells": [
  {
   "cell_type": "code",
   "execution_count": 1,
   "metadata": {},
   "outputs": [
    {
     "name": "stderr",
     "output_type": "stream",
     "text": [
      "Using TensorFlow backend.\n"
     ]
    }
   ],
   "source": [
    "import torch\n",
    "import tensorflow as tf\n",
    "\n",
    "from keras.backend.tensorflow_backend import set_session\n",
    "##********************************************************\n",
    "## For GPU\n",
    "#\n",
    "config = tf.ConfigProto()\n",
    "config.gpu_options.allow_growth = True\n",
    "#config.gpu_options.per_process_gpu_memory_fraction = 0.50\n",
    "set_session(tf.Session(config=config))\n",
    "\n",
    "#\n",
    "##********************************************************\n",
    "\n",
    "from keras import backend as K\n",
    "\n",
    "\n",
    "from SSD_generate_anchors import generate_ssd_priors\n",
    "\n",
    "from CustomDataLoaderTorch import DataAugmentor as DA1\n",
    "from CustomDataLoaderTF import DataAugmentor as DA2\n",
    "\n",
    "from utility import match as match_np\n",
    "from utility import decode as decode_np\n",
    "from utility import non_maximum_supression\n",
    "\n",
    "from box_utils import match as match_th\n",
    "from box_utils import decode as decode_th\n",
    "from box_utils import nms\n",
    "\n",
    "from pathlib import Path\n",
    "import collections\n",
    "from ssd300_model import SSD300\n",
    "from skimage.io import imread, imshow\n",
    "import cv2\n",
    "import numpy as np\n",
    "\n",
    "from Detector import Detect  as Detect_np\n",
    "from detection import Detect as Detect_th"
   ]
  },
  {
   "cell_type": "code",
   "execution_count": 2,
   "metadata": {},
   "outputs": [],
   "source": [
    "root                 = Path.home()/'Documents'/'DATASETS'/'VOCdevkit'\n"
   ]
  },
  {
   "cell_type": "code",
   "execution_count": 3,
   "metadata": {},
   "outputs": [],
   "source": [
    "SSDBoxSizes = collections.namedtuple('SSDBoxSizes', ['min', 'max'])\n",
    "\n",
    "Spec = collections.namedtuple('Spec', ['feature_map_size', 'shrinkage', 'box_sizes', \n",
    "                                       'aspect_ratios'])\n",
    "\n",
    "# the SSD orignal specs\n",
    "specs = [\n",
    "    Spec(38, 8, SSDBoxSizes(30, 60), [2]),\n",
    "    Spec(19, 16, SSDBoxSizes(60, 111), [2, 3]),\n",
    "    Spec(10, 32, SSDBoxSizes(111, 162), [2, 3]),\n",
    "    Spec(5, 64, SSDBoxSizes(162, 213), [2, 3]),\n",
    "    Spec(3, 100, SSDBoxSizes(213, 264), [2]),\n",
    "    Spec(1, 300, SSDBoxSizes(264, 315), [2])\n",
    "]\n",
    "\n",
    "priors = generate_ssd_priors(specs).astype(np.float32)"
   ]
  },
  {
   "cell_type": "code",
   "execution_count": 4,
   "metadata": {},
   "outputs": [],
   "source": [
    "batch_size = 4\n",
    "\n",
    "loader_np  = DA2()\n",
    "data_np    = loader_np.flow_from_directory(root         = root,\n",
    "                                       data_folder  = ['VOC2007', 'VOC2012'],\n",
    "                                       target_size  = (300,300),\n",
    "                                       batch_size   = batch_size,\n",
    "                                       shuffle      = False,\n",
    "                                       priors       = priors\n",
    "                                        )"
   ]
  },
  {
   "cell_type": "code",
   "execution_count": 5,
   "metadata": {},
   "outputs": [],
   "source": [
    "sample_np = data_np[0]\n",
    "images_np, targets_np = sample_np\n",
    "\n",
    "loc_data  = targets_np[:,:,:4]\n",
    "conf_data = targets_np[:,:,4:]\n",
    "\n"
   ]
  },
  {
   "cell_type": "code",
   "execution_count": 6,
   "metadata": {},
   "outputs": [],
   "source": [
    "test_np = Detect_np(num_classes=21, bkg_label  = 0, top_k=200, conf_thresh=0.01, nms_thresh=0.45, variances=[0.1, 0.2])"
   ]
  },
  {
   "cell_type": "code",
   "execution_count": 7,
   "metadata": {},
   "outputs": [],
   "source": [
    "detector_np = test_np.forward(loc_data = loc_data, conf_data=conf_data, priors = priors)"
   ]
  },
  {
   "cell_type": "code",
   "execution_count": 8,
   "metadata": {},
   "outputs": [
    {
     "name": "stdout",
     "output_type": "stream",
     "text": [
      "(4, 21, 200, 5)\n",
      "(4, 21, 200, 5)\n"
     ]
    }
   ],
   "source": [
    "print(detector_np.shape)\n",
    "print(detector_np.shape)"
   ]
  },
  {
   "cell_type": "code",
   "execution_count": 9,
   "metadata": {},
   "outputs": [],
   "source": [
    "loc_data_th  = torch.from_numpy(loc_data).float()\n",
    "conf_data_th = torch.from_numpy(conf_data).float()\n",
    "priors_th    = torch.from_numpy(priors).float()"
   ]
  },
  {
   "cell_type": "code",
   "execution_count": 10,
   "metadata": {},
   "outputs": [],
   "source": [
    "test_th = Detect_th(num_classes=21, bkg_label=0, top_k=200, conf_thresh=0.01, nms_thresh=0.45, variance=[0.1, 0.2])"
   ]
  },
  {
   "cell_type": "code",
   "execution_count": 11,
   "metadata": {},
   "outputs": [],
   "source": [
    "detector_th = test_th.forward(loc_data=loc_data_th, conf_data=conf_data_th, prior_data=priors_th)"
   ]
  },
  {
   "cell_type": "code",
   "execution_count": 12,
   "metadata": {},
   "outputs": [
    {
     "name": "stdout",
     "output_type": "stream",
     "text": [
      "torch.Size([4, 21, 200, 5])\n"
     ]
    }
   ],
   "source": [
    "print(detector_th.size())\n",
    "# print(detector_th[1])"
   ]
  },
  {
   "cell_type": "code",
   "execution_count": 13,
   "metadata": {},
   "outputs": [
    {
     "data": {
      "text/plain": [
       "83845"
      ]
     },
     "execution_count": 13,
     "metadata": {},
     "output_type": "execute_result"
    }
   ],
   "source": [
    "a = detector_np == detector_th.numpy()\n",
    "np.sum(a)"
   ]
  },
  {
   "cell_type": "code",
   "execution_count": 14,
   "metadata": {},
   "outputs": [
    {
     "data": {
      "text/plain": [
       "array([[[[ True,  True,  True,  True,  True],\n",
       "         [ True,  True,  True,  True,  True],\n",
       "         [ True,  True,  True,  True,  True],\n",
       "         ...,\n",
       "         [ True,  True,  True,  True,  True],\n",
       "         [ True,  True,  True,  True,  True],\n",
       "         [ True,  True,  True,  True,  True]],\n",
       "\n",
       "        [[ True,  True,  True,  True,  True],\n",
       "         [ True,  True,  True,  True,  True],\n",
       "         [ True,  True,  True,  True,  True],\n",
       "         ...,\n",
       "         [ True,  True,  True,  True,  True],\n",
       "         [ True,  True,  True,  True,  True],\n",
       "         [ True,  True,  True,  True,  True]],\n",
       "\n",
       "        [[ True,  True,  True,  True,  True],\n",
       "         [ True,  True,  True,  True,  True],\n",
       "         [ True,  True,  True,  True,  True],\n",
       "         ...,\n",
       "         [ True,  True,  True,  True,  True],\n",
       "         [ True,  True,  True,  True,  True],\n",
       "         [ True,  True,  True,  True,  True]],\n",
       "\n",
       "        ...,\n",
       "\n",
       "        [[ True,  True,  True,  True,  True],\n",
       "         [ True,  True,  True,  True,  True],\n",
       "         [ True,  True,  True,  True,  True],\n",
       "         ...,\n",
       "         [ True,  True,  True,  True,  True],\n",
       "         [ True,  True,  True,  True,  True],\n",
       "         [ True,  True,  True,  True,  True]],\n",
       "\n",
       "        [[ True,  True,  True,  True,  True],\n",
       "         [ True,  True,  True,  True,  True],\n",
       "         [ True,  True,  True,  True,  True],\n",
       "         ...,\n",
       "         [ True,  True,  True,  True,  True],\n",
       "         [ True,  True,  True,  True,  True],\n",
       "         [ True,  True,  True,  True,  True]],\n",
       "\n",
       "        [[ True,  True,  True,  True,  True],\n",
       "         [ True,  True,  True,  True,  True],\n",
       "         [ True,  True,  True,  True,  True],\n",
       "         ...,\n",
       "         [ True,  True,  True,  True,  True],\n",
       "         [ True,  True,  True,  True,  True],\n",
       "         [ True,  True,  True,  True,  True]]],\n",
       "\n",
       "\n",
       "       [[[ True,  True,  True,  True,  True],\n",
       "         [ True,  True,  True,  True,  True],\n",
       "         [ True,  True,  True,  True,  True],\n",
       "         ...,\n",
       "         [ True,  True,  True,  True,  True],\n",
       "         [ True,  True,  True,  True,  True],\n",
       "         [ True,  True,  True,  True,  True]],\n",
       "\n",
       "        [[ True,  True,  True,  True,  True],\n",
       "         [ True,  True,  True,  True,  True],\n",
       "         [ True,  True,  True,  True,  True],\n",
       "         ...,\n",
       "         [ True,  True,  True,  True,  True],\n",
       "         [ True,  True,  True,  True,  True],\n",
       "         [ True,  True,  True,  True,  True]],\n",
       "\n",
       "        [[ True,  True,  True,  True,  True],\n",
       "         [ True,  True,  True,  True,  True],\n",
       "         [ True,  True,  True,  True,  True],\n",
       "         ...,\n",
       "         [ True,  True,  True,  True,  True],\n",
       "         [ True,  True,  True,  True,  True],\n",
       "         [ True,  True,  True,  True,  True]],\n",
       "\n",
       "        ...,\n",
       "\n",
       "        [[ True,  True,  True,  True,  True],\n",
       "         [ True,  True,  True,  True,  True],\n",
       "         [ True,  True,  True,  True,  True],\n",
       "         ...,\n",
       "         [ True,  True,  True,  True,  True],\n",
       "         [ True,  True,  True,  True,  True],\n",
       "         [ True,  True,  True,  True,  True]],\n",
       "\n",
       "        [[ True,  True,  True,  True,  True],\n",
       "         [ True,  True,  True,  True,  True],\n",
       "         [ True,  True,  True,  True,  True],\n",
       "         ...,\n",
       "         [ True,  True,  True,  True,  True],\n",
       "         [ True,  True,  True,  True,  True],\n",
       "         [ True,  True,  True,  True,  True]],\n",
       "\n",
       "        [[ True,  True,  True,  True,  True],\n",
       "         [ True,  True,  True,  True,  True],\n",
       "         [ True,  True,  True,  True,  True],\n",
       "         ...,\n",
       "         [ True,  True,  True,  True,  True],\n",
       "         [ True,  True,  True,  True,  True],\n",
       "         [ True,  True,  True,  True,  True]]],\n",
       "\n",
       "\n",
       "       [[[ True,  True,  True,  True,  True],\n",
       "         [ True,  True,  True,  True,  True],\n",
       "         [ True,  True,  True,  True,  True],\n",
       "         ...,\n",
       "         [ True,  True,  True,  True,  True],\n",
       "         [ True,  True,  True,  True,  True],\n",
       "         [ True,  True,  True,  True,  True]],\n",
       "\n",
       "        [[ True,  True,  True,  True,  True],\n",
       "         [ True,  True,  True,  True,  True],\n",
       "         [ True,  True,  True,  True,  True],\n",
       "         ...,\n",
       "         [ True,  True,  True,  True,  True],\n",
       "         [ True,  True,  True,  True,  True],\n",
       "         [ True,  True,  True,  True,  True]],\n",
       "\n",
       "        [[ True,  True,  True,  True,  True],\n",
       "         [ True, False, False, False,  True],\n",
       "         [ True, False, False, False,  True],\n",
       "         ...,\n",
       "         [ True,  True,  True,  True,  True],\n",
       "         [ True,  True,  True,  True,  True],\n",
       "         [ True,  True,  True,  True,  True]],\n",
       "\n",
       "        ...,\n",
       "\n",
       "        [[ True,  True,  True,  True,  True],\n",
       "         [ True,  True,  True,  True,  True],\n",
       "         [ True,  True,  True,  True,  True],\n",
       "         ...,\n",
       "         [ True,  True,  True,  True,  True],\n",
       "         [ True,  True,  True,  True,  True],\n",
       "         [ True,  True,  True,  True,  True]],\n",
       "\n",
       "        [[ True,  True,  True,  True,  True],\n",
       "         [ True,  True,  True,  True,  True],\n",
       "         [ True,  True,  True,  True,  True],\n",
       "         ...,\n",
       "         [ True,  True,  True,  True,  True],\n",
       "         [ True,  True,  True,  True,  True],\n",
       "         [ True,  True,  True,  True,  True]],\n",
       "\n",
       "        [[ True,  True,  True,  True,  True],\n",
       "         [ True,  True,  True,  True,  True],\n",
       "         [ True,  True,  True,  True,  True],\n",
       "         ...,\n",
       "         [ True,  True,  True,  True,  True],\n",
       "         [ True,  True,  True,  True,  True],\n",
       "         [ True,  True,  True,  True,  True]]],\n",
       "\n",
       "\n",
       "       [[[ True,  True,  True,  True,  True],\n",
       "         [ True,  True,  True,  True,  True],\n",
       "         [ True,  True,  True,  True,  True],\n",
       "         ...,\n",
       "         [ True,  True,  True,  True,  True],\n",
       "         [ True,  True,  True,  True,  True],\n",
       "         [ True,  True,  True,  True,  True]],\n",
       "\n",
       "        [[ True,  True,  True,  True,  True],\n",
       "         [ True,  True,  True,  True,  True],\n",
       "         [ True,  True,  True,  True,  True],\n",
       "         ...,\n",
       "         [ True,  True,  True,  True,  True],\n",
       "         [ True,  True,  True,  True,  True],\n",
       "         [ True,  True,  True,  True,  True]],\n",
       "\n",
       "        [[ True,  True,  True,  True,  True],\n",
       "         [ True,  True,  True,  True,  True],\n",
       "         [ True,  True,  True,  True,  True],\n",
       "         ...,\n",
       "         [ True,  True,  True,  True,  True],\n",
       "         [ True,  True,  True,  True,  True],\n",
       "         [ True,  True,  True,  True,  True]],\n",
       "\n",
       "        ...,\n",
       "\n",
       "        [[ True,  True,  True,  True,  True],\n",
       "         [ True,  True,  True,  True,  True],\n",
       "         [ True,  True,  True,  True,  True],\n",
       "         ...,\n",
       "         [ True,  True,  True,  True,  True],\n",
       "         [ True,  True,  True,  True,  True],\n",
       "         [ True,  True,  True,  True,  True]],\n",
       "\n",
       "        [[ True,  True,  True,  True,  True],\n",
       "         [ True,  True,  True,  True,  True],\n",
       "         [ True,  True,  True,  True,  True],\n",
       "         ...,\n",
       "         [ True,  True,  True,  True,  True],\n",
       "         [ True,  True,  True,  True,  True],\n",
       "         [ True,  True,  True,  True,  True]],\n",
       "\n",
       "        [[ True,  True,  True,  True,  True],\n",
       "         [ True,  True,  True,  True,  True],\n",
       "         [ True,  True,  True,  True,  True],\n",
       "         ...,\n",
       "         [ True,  True,  True,  True,  True],\n",
       "         [ True,  True,  True,  True,  True],\n",
       "         [ True,  True,  True,  True,  True]]]])"
      ]
     },
     "execution_count": 14,
     "metadata": {},
     "output_type": "execute_result"
    }
   ],
   "source": [
    "a"
   ]
  },
  {
   "cell_type": "code",
   "execution_count": null,
   "metadata": {},
   "outputs": [],
   "source": []
  }
 ],
 "metadata": {
  "kernelspec": {
   "display_name": "Python 3",
   "language": "python",
   "name": "python3"
  },
  "language_info": {
   "codemirror_mode": {
    "name": "ipython",
    "version": 3
   },
   "file_extension": ".py",
   "mimetype": "text/x-python",
   "name": "python",
   "nbconvert_exporter": "python",
   "pygments_lexer": "ipython3",
   "version": "3.7.3"
  }
 },
 "nbformat": 4,
 "nbformat_minor": 2
}
