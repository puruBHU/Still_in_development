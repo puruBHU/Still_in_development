{
 "cells": [
  {
   "cell_type": "code",
   "execution_count": 2,
   "metadata": {},
   "outputs": [],
   "source": [
    "import cv2\n",
    "from pathlib import Path\n",
    "\n",
    "from ssd300_model import SSD300\n",
    "from skimage.io import imread\n",
    "import numpy as np\n",
    "from utility import *\n",
    "\n",
    "from nms import nms"
   ]
  },
  {
   "cell_type": "code",
   "execution_count": 3,
   "metadata": {},
   "outputs": [],
   "source": [
    "target_size = (300,300)\n",
    "\n",
    "mean = np.array([114.02898, 107.86698,  99.73119], dtype=np.float32)\n",
    "std  = np.array( [69.89365, 69.07726, 72.30074], dtype=np.float32)\n",
    "\n",
    "classes = ['background',\n",
    "           'aeroplane', 'bicycle', 'bird', 'boat',\n",
    "           'bottle', 'bus', 'car', 'cat',\n",
    "           'chair', 'cow', 'diningtable', 'dog',\n",
    "           'horse', 'motorbike', 'person', 'pottedplant',\n",
    "           'sheep', 'sofa', 'train', 'tvmonitor']\n"
   ]
  },
  {
   "cell_type": "code",
   "execution_count": 4,
   "metadata": {},
   "outputs": [],
   "source": [
    "def preprocess_image(image_path, target_size=(300, 300), mean = None, std = None):\n",
    "    image = imread(image_path)\n",
    "    img = cv2.resize(image, (300, 300), interpolation = cv2.INTER_CUBIC)\n",
    "    img = np.expand_dims(img,axis = 0)\n",
    "    img = np.float32(img)\n",
    "    img -= mean\n",
    "    img /= std\n",
    "    return image, img"
   ]
  },
  {
   "cell_type": "code",
   "execution_count": 5,
   "metadata": {},
   "outputs": [
    {
     "name": "stdout",
     "output_type": "stream",
     "text": [
      "WARNING:tensorflow:From /home/vlsilab/anaconda2/envs/py3/lib/python3.7/site-packages/tensorflow/python/framework/op_def_library.py:263: colocate_with (from tensorflow.python.framework.ops) is deprecated and will be removed in a future version.\n",
      "Instructions for updating:\n",
      "Colocations handled automatically by placer.\n"
     ]
    }
   ],
   "source": [
    "model = SSD300(input_shape = (300, 300, 3), \n",
    "               anchors = [4, 6,6,6,4,4], \n",
    "               num_classes = 21)\n",
    "\n",
    "model.load_weights('checkpoints/test_checkpoint.hdf5')"
   ]
  },
  {
   "cell_type": "code",
   "execution_count": 6,
   "metadata": {},
   "outputs": [],
   "source": [
    "image_path  =  Path.cwd()/'test_images'/'000007.jpg'\n",
    "\n",
    "image, input_img = preprocess_image(image_path = image_path,\n",
    "                                    mean = mean, \n",
    "                                    std = std)\n"
   ]
  },
  {
   "cell_type": "code",
   "execution_count": 7,
   "metadata": {},
   "outputs": [],
   "source": [
    "prediction  = model.predict(input_img) \n",
    "prediction  = np.squeeze(prediction, axis=0)"
   ]
  },
  {
   "cell_type": "code",
   "execution_count": 8,
   "metadata": {},
   "outputs": [
    {
     "name": "stdout",
     "output_type": "stream",
     "text": [
      "(8732, 25)\n"
     ]
    }
   ],
   "source": [
    "print(prediction.shape)"
   ]
  },
  {
   "cell_type": "code",
   "execution_count": null,
   "metadata": {},
   "outputs": [],
   "source": [
    "loc_data"
   ]
  }
 ],
 "metadata": {
  "kernelspec": {
   "display_name": "Python 3",
   "language": "python",
   "name": "python3"
  },
  "language_info": {
   "codemirror_mode": {
    "name": "ipython",
    "version": 3
   },
   "file_extension": ".py",
   "mimetype": "text/x-python",
   "name": "python",
   "nbconvert_exporter": "python",
   "pygments_lexer": "ipython3",
   "version": "3.7.3"
  }
 },
 "nbformat": 4,
 "nbformat_minor": 2
}
