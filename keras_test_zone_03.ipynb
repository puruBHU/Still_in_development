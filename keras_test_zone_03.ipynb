{
 "cells": [
  {
   "cell_type": "code",
   "execution_count": 1,
   "metadata": {},
   "outputs": [
    {
     "name": "stderr",
     "output_type": "stream",
     "text": [
      "Using TensorFlow backend.\n"
     ]
    }
   ],
   "source": [
    "import torch\n",
    "from keras import backend as K\n",
    "import tensorflow as tf\n",
    "import numpy as np"
   ]
  },
  {
   "cell_type": "code",
   "execution_count": 5,
   "metadata": {},
   "outputs": [
    {
     "data": {
      "text/plain": [
       "tensor([[1, 1],\n",
       "        [4, 3]])"
      ]
     },
     "execution_count": 5,
     "metadata": {},
     "output_type": "execute_result"
    }
   ],
   "source": [
    "t = torch.tensor([[1,2],[3,4]])\n",
    "torch.gather(t, 1, torch.tensor([[0,0],[1,0]]))"
   ]
  },
  {
   "cell_type": "code",
   "execution_count": 6,
   "metadata": {},
   "outputs": [
    {
     "data": {
      "text/plain": [
       "tensor([[1, 2],\n",
       "        [3, 4]])"
      ]
     },
     "execution_count": 6,
     "metadata": {},
     "output_type": "execute_result"
    }
   ],
   "source": [
    "t"
   ]
  },
  {
   "cell_type": "code",
   "execution_count": 17,
   "metadata": {},
   "outputs": [],
   "source": [
    "tt = np.array([[1,2],[3,4]])\n",
    "index = np.array([[0,0],[1,0]])\n",
    "\n",
    "out = K.tf.gather_nd(tt, index, batch_dims=0)"
   ]
  },
  {
   "cell_type": "code",
   "execution_count": 18,
   "metadata": {},
   "outputs": [
    {
     "data": {
      "text/plain": [
       "array([1, 3])"
      ]
     },
     "execution_count": 18,
     "metadata": {},
     "output_type": "execute_result"
    }
   ],
   "source": [
    "K.eval(out)"
   ]
  },
  {
   "cell_type": "code",
   "execution_count": 29,
   "metadata": {},
   "outputs": [
    {
     "data": {
      "text/plain": [
       "array([[1, 1],\n",
       "       [2, 1]])"
      ]
     },
     "execution_count": 29,
     "metadata": {},
     "output_type": "execute_result"
    }
   ],
   "source": [
    "ttt = tt.reshape(-1)\n",
    "out2 = K.tf.gather(ttt, index)\n",
    "K.eval(out2)"
   ]
  },
  {
   "cell_type": "code",
   "execution_count": 34,
   "metadata": {},
   "outputs": [],
   "source": [
    "test = \n",
    "for i in range(index.shape[0]):\n",
    "    for j in range(index.shape[1]):\n",
    "        a =  K.gather(tt[i,:], index[i,j])\n",
    "        test.append(K.eval(a))"
   ]
  },
  {
   "cell_type": "code",
   "execution_count": 36,
   "metadata": {},
   "outputs": [
    {
     "ename": "AttributeError",
     "evalue": "'list' object has no attribute 'reshape'",
     "output_type": "error",
     "traceback": [
      "\u001b[0;31m---------------------------------------------------------------------------\u001b[0m",
      "\u001b[0;31mAttributeError\u001b[0m                            Traceback (most recent call last)",
      "\u001b[0;32m<ipython-input-36-cb3f2e3fb6ac>\u001b[0m in \u001b[0;36m<module>\u001b[0;34m\u001b[0m\n\u001b[0;32m----> 1\u001b[0;31m \u001b[0mtest\u001b[0m\u001b[0;34m.\u001b[0m\u001b[0mreshape\u001b[0m\u001b[0;34m(\u001b[0m\u001b[0mindex\u001b[0m\u001b[0;34m.\u001b[0m\u001b[0mshape\u001b[0m\u001b[0;34m)\u001b[0m\u001b[0;34m\u001b[0m\u001b[0;34m\u001b[0m\u001b[0m\n\u001b[0m",
      "\u001b[0;31mAttributeError\u001b[0m: 'list' object has no attribute 'reshape'"
     ]
    }
   ],
   "source": [
    "test = np.array()\n",
    "test.reshape(index.shape)"
   ]
  },
  {
   "cell_type": "code",
   "execution_count": 27,
   "metadata": {},
   "outputs": [],
   "source": [
    "\n",
    "\n",
    "\n",
    "def gather(self, dim, index):\n",
    "    \"\"\"\n",
    "    Gathers values along an axis specified by ``dim``.\n",
    "\n",
    "    For a 3-D tensor the output is specified by:\n",
    "        out[i][j][k] = input[index[i][j][k]][j][k]  # if dim == 0\n",
    "        out[i][j][k] = input[i][index[i][j][k]][k]  # if dim == 1\n",
    "        out[i][j][k] = input[i][j][index[i][j][k]]  # if dim == 2\n",
    "\n",
    "    Parameters\n",
    "    ----------\n",
    "    dim:\n",
    "        The axis along which to index\n",
    "    index:\n",
    "        A tensor of indices of elements to gather\n",
    "\n",
    "    Returns\n",
    "    -------\n",
    "    Output Tensor\n",
    "    \"\"\"\n",
    "    idx_xsection_shape = index.shape[:dim] + \\\n",
    "        index.shape[dim + 1:]\n",
    "    self_xsection_shape = self.shape[:dim] + self.shape[dim + 1:]\n",
    "    if idx_xsection_shape != self_xsection_shape:\n",
    "        raise ValueError(\"Except for dimension \" + str(dim) +\n",
    "                         \", all dimensions of index and self should be the same size\")\n",
    "    if index.dtype != np.dtype('int_'):\n",
    "        raise TypeError(\"The values of index must be integers\")\n",
    "    data_swaped = np.swapaxes(self, 0, dim)\n",
    "    index_swaped = np.swapaxes(index, 0, dim)\n",
    "    gathered = np.choose(index_swaped, data_swaped)\n",
    "    return np.swapaxes(gathered, 0, dim)"
   ]
  },
  {
   "cell_type": "code",
   "execution_count": null,
   "metadata": {},
   "outputs": [],
   "source": [
    "def gather_keras(self, dim, index):\n",
    "    idx_xsection_shape = K.shape(index)[:dim] + K.shape(index)[dim + 1:]\n",
    "    \n",
    "    self_xsection_shape = K.shape(self)[:dim] + K.shape(self)[dim + 1:]\n",
    "    \n",
    "    data_swaped = K.tf.transpose(self, [0, dim])\n",
    "    index_swaped = K.tf.transpose(index, [0, dim])\n",
    "    \n",
    "    "
   ]
  }
 ],
 "metadata": {
  "kernelspec": {
   "display_name": "Python 3",
   "language": "python",
   "name": "python3"
  },
  "language_info": {
   "codemirror_mode": {
    "name": "ipython",
    "version": 3
   },
   "file_extension": ".py",
   "mimetype": "text/x-python",
   "name": "python",
   "nbconvert_exporter": "python",
   "pygments_lexer": "ipython3",
   "version": "3.7.3"
  }
 },
 "nbformat": 4,
 "nbformat_minor": 2
}
